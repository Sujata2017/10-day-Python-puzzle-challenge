{
  "nbformat": 4,
  "nbformat_minor": 0,
  "metadata": {
    "colab": {
      "name": "Simple Python Puzzles.ipynb",
      "provenance": [],
      "collapsed_sections": []
    },
    "kernelspec": {
      "name": "python3",
      "display_name": "Python 3"
    },
    "language_info": {
      "name": "python"
    }
  },
  "cells": [
    {
      "cell_type": "markdown",
      "source": [
        "# Day 1 - Python Division"
      ],
      "metadata": {
        "id": "QiUU8MOFV4Nk"
      }
    },
    {
      "cell_type": "code",
      "source": [
        "x = 50 // 11\n",
        "print(x)"
      ],
      "metadata": {
        "colab": {
          "base_uri": "https://localhost:8080/"
        },
        "id": "wYtLJYW5V4-q",
        "outputId": "5fbc932e-92cf-4b4f-f208-923463fc4809"
      },
      "execution_count": 2,
      "outputs": [
        {
          "output_type": "stream",
          "name": "stdout",
          "text": [
            "4\n"
          ]
        }
      ]
    },
    {
      "cell_type": "markdown",
      "source": [
        "# Day 2 - Python String Concat"
      ],
      "metadata": {
        "id": "xEBeTFtyWDN7"
      }
    },
    {
      "cell_type": "code",
      "source": [
        "print(3 * 'un' + 'ium')"
      ],
      "metadata": {
        "colab": {
          "base_uri": "https://localhost:8080/"
        },
        "id": "Y_ipV5hUWb3X",
        "outputId": "54415c20-1555-4d5d-b220-3d047d084043"
      },
      "execution_count": 3,
      "outputs": [
        {
          "output_type": "stream",
          "name": "stdout",
          "text": [
            "unununium\n"
          ]
        }
      ]
    },
    {
      "cell_type": "markdown",
      "source": [
        "# Day 3 - Python String Indexing"
      ],
      "metadata": {
        "id": "gGBOzGpLW65g"
      }
    },
    {
      "cell_type": "code",
      "source": [
        "x = 'silent'\n",
        "print(x[2] + x[1] + x[0] + x[5] + x[3] + x[4])"
      ],
      "metadata": {
        "colab": {
          "base_uri": "https://localhost:8080/"
        },
        "id": "S06XlB-6XJym",
        "outputId": "17011f7a-20d5-44f1-e1bd-a6dfcbf07e66"
      },
      "execution_count": 4,
      "outputs": [
        {
          "output_type": "stream",
          "name": "stdout",
          "text": [
            "listen\n"
          ]
        }
      ]
    },
    {
      "cell_type": "markdown",
      "source": [
        "# Day 4 - Lists in Lists"
      ],
      "metadata": {
        "id": "YNJyQhNJXhr4"
      }
    },
    {
      "cell_type": "code",
      "source": [
        "python = ['cool']\n",
        "x = python in python\n",
        "\n",
        "print(x)"
      ],
      "metadata": {
        "colab": {
          "base_uri": "https://localhost:8080/"
        },
        "id": "7uL1q0uMXwpz",
        "outputId": "82b5a266-a33b-4dbe-9627-7bb9f291a06f"
      },
      "execution_count": 5,
      "outputs": [
        {
          "output_type": "stream",
          "name": "stdout",
          "text": [
            "False\n"
          ]
        }
      ]
    },
    {
      "cell_type": "markdown",
      "source": [
        "# Day 5 - Grasp Code Quickly"
      ],
      "metadata": {
        "id": "CDcnopb6YTVC"
      }
    },
    {
      "cell_type": "code",
      "source": [
        "s = 'terfinx'\n",
        "s = ''.join(sorted(list(s)[3:7])+list(s)[0:3])\n",
        "\n",
        "print(s)"
      ],
      "metadata": {
        "colab": {
          "base_uri": "https://localhost:8080/"
        },
        "id": "z_9FqvspYXa3",
        "outputId": "984c9eb7-8eb6-471d-fbe1-d45d48fd2b9a"
      },
      "execution_count": 6,
      "outputs": [
        {
          "output_type": "stream",
          "name": "stdout",
          "text": [
            "finxter\n"
          ]
        }
      ]
    },
    {
      "cell_type": "markdown",
      "source": [
        "# Day 6 - Python Negative Indexing"
      ],
      "metadata": {
        "id": "PW3AsomTaOnw"
      }
    },
    {
      "cell_type": "code",
      "source": [
        "x = 'cool'\n",
        "print(x[-1] + x[-2] + x[-4] + x[-3])"
      ],
      "metadata": {
        "colab": {
          "base_uri": "https://localhost:8080/"
        },
        "id": "wIo2Cb06ajSr",
        "outputId": "25f9c085-dd76-4101-f1f0-3e2531f2f3fd"
      },
      "execution_count": 7,
      "outputs": [
        {
          "output_type": "stream",
          "name": "stdout",
          "text": [
            "loco\n"
          ]
        }
      ]
    },
    {
      "cell_type": "markdown",
      "source": [
        "# Day 7 - Boolean Values"
      ],
      "metadata": {
        "id": "TYtXUc5cYy-U"
      }
    },
    {
      "cell_type": "code",
      "source": [
        "l = [[]]\n",
        "\n",
        "if l:\n",
        "  print(True)\n",
        "else:\n",
        "  print(False)\n",
        "    "
      ],
      "metadata": {
        "colab": {
          "base_uri": "https://localhost:8080/"
        },
        "id": "puWraEqfZlSk",
        "outputId": "44d712ee-8208-4c43-f249-e56f81280391"
      },
      "execution_count": 8,
      "outputs": [
        {
          "output_type": "stream",
          "name": "stdout",
          "text": [
            "True\n"
          ]
        }
      ]
    },
    {
      "cell_type": "markdown",
      "source": [
        "# Day 8 - Integer Division"
      ],
      "metadata": {
        "id": "C6rJQwZ1cGcl"
      }
    },
    {
      "cell_type": "code",
      "source": [
        "x = 5 // -3.0 * 4\n",
        "print(x)"
      ],
      "metadata": {
        "colab": {
          "base_uri": "https://localhost:8080/"
        },
        "id": "OFh0k4RLcL5j",
        "outputId": "9f83505f-40f8-44b4-c251-f282bfcd6dea"
      },
      "execution_count": 9,
      "outputs": [
        {
          "output_type": "stream",
          "name": "stdout",
          "text": [
            "-8.0\n"
          ]
        }
      ]
    },
    {
      "cell_type": "markdown",
      "source": [
        "# Day 9 - List Comprehension Basics"
      ],
      "metadata": {
        "id": "P50ldiX_gjdw"
      }
    },
    {
      "cell_type": "code",
      "source": [
        "words = ['ape', 'banana', 'cat', 'bird']\n",
        "b_words = [w for w in words if w.startswith('b')]\n",
        "print(b_words)\n",
        "print(len(b_words))"
      ],
      "metadata": {
        "colab": {
          "base_uri": "https://localhost:8080/"
        },
        "id": "3WKfiG0AjYj1",
        "outputId": "f92fcb35-52ed-42f4-c674-a3a362de3124"
      },
      "execution_count": 10,
      "outputs": [
        {
          "output_type": "stream",
          "name": "stdout",
          "text": [
            "['banana', 'bird']\n",
            "2\n"
          ]
        }
      ]
    },
    {
      "cell_type": "markdown",
      "source": [
        "# Day 10 - Boost your Boolean Logic"
      ],
      "metadata": {
        "id": "8VWabw8nhJ6O"
      }
    },
    {
      "cell_type": "code",
      "source": [
        "A = True # Temperatures are high\n",
        "B = True # Arctic ice is melting\n",
        "C = True # Sea levels are rising\n",
        "D = False # All regions become hot\n",
        "\n",
        "def follows(A,B):\n",
        "  \"\"\"Returns True if 'A -> B'\n",
        "  in words: 'B follows from A' \"\"\"\n",
        "  return not A or B\n",
        "\n",
        "# Do we have a climate change?\n",
        "climate_change = follows(follows(A,B),C)\n",
        "if not D:\n",
        "  print(climate_change)\n",
        "else:\n",
        "  print(D)\n",
        "\n"
      ],
      "metadata": {
        "colab": {
          "base_uri": "https://localhost:8080/"
        },
        "id": "-zG8JFTyhNcK",
        "outputId": "d18ee91e-67b9-40ec-8f61-eba7d1847ece"
      },
      "execution_count": 11,
      "outputs": [
        {
          "output_type": "stream",
          "name": "stdout",
          "text": [
            "True\n"
          ]
        }
      ]
    }
  ]
}